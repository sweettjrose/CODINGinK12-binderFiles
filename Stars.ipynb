{
 "cells": [
  {
   "cell_type": "markdown",
   "metadata": {},
   "source": [
    "# Star catalogue analysis\n",
    "\n",
    "Thanks to UCF Physics undergrad Tyler Townsend for contributing to the development of this notebook."
   ]
  },
  {
   "cell_type": "code",
   "execution_count": null,
   "metadata": {
    "collapsed": true
   },
   "outputs": [],
   "source": [
    "# Import modules that contain functions we need\n",
    "import pandas as pd\n",
    "import numpy as np\n",
    "%matplotlib inline\n",
    "import matplotlib.pyplot as plt"
   ]
  },
  {
   "cell_type": "markdown",
   "metadata": {},
   "source": [
    "## Getting the data"
   ]
  },
  {
   "cell_type": "code",
   "execution_count": null,
   "metadata": {
    "collapsed": false
   },
   "outputs": [],
   "source": [
    "# Read in data that will be used for the calculations.\n",
    "# Using pandas read_csv method, we can create a data frame\n",
    "data = pd.read_csv(\"https://github.com/adamlamee/CODINGinK12-data/raw/master/stars.csv\")"
   ]
  },
  {
   "cell_type": "code",
   "execution_count": null,
   "metadata": {
    "collapsed": false
   },
   "outputs": [],
   "source": [
    "# We wish too look at the first 5 rows of our data set\n",
    "data.head(5)"
   ]
  },
  {
   "cell_type": "markdown",
   "metadata": {},
   "source": [
    "## Star map"
   ]
  },
  {
   "cell_type": "code",
   "execution_count": null,
   "metadata": {
    "collapsed": false
   },
   "outputs": [],
   "source": [
    "fig = plt.figure(figsize=(15, 4))\n",
    "plt.scatter(data.ra,data.dec, s=0.01)\n",
    "plt.xlim(24, 0)\n",
    "plt.title(\"All the Stars in the Catalogue\")\n",
    "plt.xlabel('right ascension')\n",
    "plt.ylabel('declination')"
   ]
  },
  {
   "cell_type": "markdown",
   "metadata": {},
   "source": [
    "## Does hotter mean brighter?"
   ]
  },
  {
   "cell_type": "code",
   "execution_count": null,
   "metadata": {
    "collapsed": false
   },
   "outputs": [],
   "source": [
    "# This is similar to an H-R diagram,\n",
    "#but with the more intuitive \"temperature\" instead of \"spectral type\"\n",
    "\n",
    "# format the points on the graph\n",
    "transparency = 0.2\n",
    "size = 1\n",
    "\n",
    "# draws a scatter plot\n",
    "plt.scatter(data.temp, data.absmag, s=size, edgecolors='none', alpha=transparency)\n",
    "plt.xlim(2000,15000)\n",
    "plt.ylim(20,-15)\n",
    "plt.title(\"Does hotter mean brighter?\")\n",
    "plt.ylabel(\"Absolute Magnitude\")\n",
    "plt.xlabel(\"Temperature (K)\")"
   ]
  },
  {
   "cell_type": "markdown",
   "metadata": {},
   "source": [
    "## Choose a constellation to examine"
   ]
  },
  {
   "cell_type": "code",
   "execution_count": null,
   "metadata": {
    "collapsed": false
   },
   "outputs": [],
   "source": [
    "# These are the abbreviations for all the constellations\n",
    "data.sort_values('con').con.unique()"
   ]
  },
  {
   "cell_type": "code",
   "execution_count": null,
   "metadata": {
    "collapsed": false
   },
   "outputs": [],
   "source": [
    "# This shows just one constellation\n",
    "data_con = data.query('con == \"Vir\"')\n",
    "\n",
    "# This plots where the brightest 10 stars are in the sky\n",
    "data_con = data_con.sort_values('mag').head(10)\n",
    "plt.scatter(data_con.ra,data_con.dec)\n",
    "plt.gca().invert_xaxis()\n",
    "plt.title(\"A constellation in the sky\")\n",
    "plt.xlabel('right ascension')\n",
    "plt.ylabel('declination')"
   ]
  },
  {
   "cell_type": "markdown",
   "metadata": {},
   "source": [
    "### Which types of stars make up your constellation?"
   ]
  },
  {
   "cell_type": "code",
   "execution_count": null,
   "metadata": {
    "collapsed": false
   },
   "outputs": [],
   "source": [
    "# format the points on the graph\n",
    "transparency = 0.2\n",
    "size = 1\n",
    "\n",
    "# draws a scatter plot\n",
    "plt.scatter(data.temp, data.absmag, s=size, edgecolors='none', alpha=transparency)\n",
    "plt.scatter(data_con.temp, data_con.absmag, color='red', edgecolors='none')\n",
    "plt.xlim(2000,15000)\n",
    "plt.ylim(20,-15)\n",
    "plt.title(\"Types of stars in a constellation\")\n",
    "plt.ylabel(\"Absolute Magnitude\")\n",
    "plt.xlabel(\"Temperature (K)\")"
   ]
  },
  {
   "cell_type": "markdown",
   "metadata": {},
   "source": [
    "Here's a reference image\n",
    "![](https://github.com/adamlamee/CODINGinK12-data/raw/master/H-R-diagram.jpeg)"
   ]
  },
  {
   "cell_type": "markdown",
   "metadata": {},
   "source": [
    "# References\n",
    "- The data came from [The Astronomy Nexus](http://www.astronexus.com/hyg) and their colletion of the Hipparcos, Yale Bright Star, and Gliese catalogues ([huge zip file here](http://www.astronexus.com/files/downloads/hygdata_v3.csv.gz)).\n",
    "- Reversed H-R diagram from [The Electric Universe](http://www.holoscience.com/wp/twinkle-twinkle-electric-star/)"
   ]
  }
 ],
 "metadata": {
  "anaconda-cloud": {},
  "kernelspec": {
   "display_name": "Python 3",
   "language": "python",
   "name": "python3"
  },
  "language_info": {
   "codemirror_mode": {
    "name": "ipython",
    "version": 3
   },
   "file_extension": ".py",
   "mimetype": "text/x-python",
   "name": "python",
   "nbconvert_exporter": "python",
   "pygments_lexer": "ipython3",
   "version": "3.5.2"
  }
 },
 "nbformat": 4,
 "nbformat_minor": 0
}
