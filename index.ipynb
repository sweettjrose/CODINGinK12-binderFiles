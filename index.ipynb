{
 "cells": [
  {
   "cell_type": "markdown",
   "metadata": {},
   "source": [
    "# Coding in K12 Interactive Demos\n",
    "Try out these activities from any device with a browser (mobile or otherwise)\n",
    "- [Intro to Jupyter](./Intro_to_Jupyter.ipynb) is a 5-minute guide of how to use our activities. If you've never programmed before, this is a great place to start.\n",
    "- [CMS Event Analysis](./CMS_leptonic_decays.ipynb) hunts for particles in data from CERN's LHC, used in Quarknet's Data Camp.\n",
    "- [Elements](./Elements.ipynb) analyzes trends in the peridodic table.\n",
    "- [Global Temp](./GlobalTemp.ipynb) looks at sea and land temperature trends since 1880.\n",
    "- [Graphing template](./templateGraphing.ipynb) lets your students enter their own data, make a plot, and add a trendline.\n",
    "- [Motion](./Motion.ipynb) plots position vs. time data and fits a trendline.\n",
    "- [Python basics](./Python_Basics.ipynb) teaches some computer science fundamentals. \n",
    "- [Quakes](./Quakes.ipynb) pulls recent global seismic data and looks at what's shaking. \n",
    "- [Seeds](./Seeds.ipynb) takes a look at deposits into the global seed bank in Svalbard, Norway.\n",
    "- [Stars](./Stars.ipynb) uses a huuuuuge star catalogue to look for patterns, create an H-R diagram, and see constellations.\n",
    "- [Tides](./Tides.ipynb) plots 5 years of sea-level heights (every 10 minutes) to uncover relationships between time and tides.\n",
    "- [Word frequency](./Word_frequency.ipynb) let's you view the most frequently-used words in a classic text (we start with Jane Eyre).\n",
    "\n",
    "Visit [CODINGinK12.org](http://www.codingink12.org) to see what else we're up to."
   ]
  },
  {
   "cell_type": "code",
   "execution_count": null,
   "metadata": {
    "collapsed": true
   },
   "outputs": [],
   "source": []
  }
 ],
 "metadata": {
  "kernelspec": {
   "display_name": "Python 3",
   "language": "python",
   "name": "python3"
  },
  "language_info": {
   "codemirror_mode": {
    "name": "ipython",
    "version": 3
   },
   "file_extension": ".py",
   "mimetype": "text/x-python",
   "name": "python",
   "nbconvert_exporter": "python",
   "pygments_lexer": "ipython3",
   "version": "3.5.2"
  }
 },
 "nbformat": 4,
 "nbformat_minor": 0
}
