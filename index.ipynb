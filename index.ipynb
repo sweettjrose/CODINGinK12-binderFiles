{
 "cells": [
  {
   "cell_type": "markdown",
   "metadata": {},
   "source": [
    "# Coding in K12 Interactive Demos\n",
    "Try out these activities from any device with a browser (mobile or otherwise)\n",
    "- [Intro to Jupyter](./Intro_to_Jupyter.ipynb) is a 5-minute guide of how to use our activities. If yo've never programmed before, this is a great place to start.\n",
    "- [Tides](./Tides.ipynb) is a classroom activity geared for use in a middle school science course with students working in groups of 2-3.\n",
    "Visit [CODINGinK12.org](http://www.codingink12.org) to see what else we're up to."
   ]
  }
 ],
 "metadata": {
  "kernelspec": {
   "display_name": "Python 3",
   "language": "python",
   "name": "python3"
  },
  "language_info": {
   "codemirror_mode": {
    "name": "ipython",
    "version": 3
   },
   "file_extension": ".py",
   "mimetype": "text/x-python",
   "name": "python",
   "nbconvert_exporter": "python",
   "pygments_lexer": "ipython3",
   "version": "3.5.2"
  }
 },
 "nbformat": 4,
 "nbformat_minor": 0
}
