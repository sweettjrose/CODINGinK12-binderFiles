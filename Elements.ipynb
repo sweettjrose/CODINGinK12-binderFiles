{
 "cells": [
  {
   "cell_type": "markdown",
   "metadata": {},
   "source": [
    "# Elements and the periodic table\n",
    "This data came from Penn State CS professor [Doug Hogan](http://php.scripts.psu.edu/djh300/cmpsc221/p3s11-pt-data.htm).\n",
    "\n",
    "Thanks to UCF undergraduates Sam Borges, for finding the data set, and Lissa Galguera, for formatting it."
   ]
  },
  {
   "cell_type": "code",
   "execution_count": null,
   "metadata": {
    "collapsed": true
   },
   "outputs": [],
   "source": [
    "# Import modules that contain functions we need\n",
    "import pandas as pd\n",
    "import numpy as np\n",
    "%matplotlib inline\n",
    "import matplotlib.pyplot as plt"
   ]
  },
  {
   "cell_type": "markdown",
   "metadata": {},
   "source": [
    "## Getting the data"
   ]
  },
  {
   "cell_type": "code",
   "execution_count": null,
   "metadata": {
    "collapsed": false
   },
   "outputs": [],
   "source": [
    "# Read in data that will be used for the calculations.\n",
    "# The data needs to be in the same directory(folder) as the program\n",
    "# Using pandas read_csv method, we can create a data frame\n",
    "data = pd.read_csv(\"http://github.com/adamlamee/CODINGinK12-data/raw/master/elements.csv\")\n",
    "\n",
    "# If you're not using a Binder link, you can get the data with this instead:\n",
    "#data = pd.read_csv(\"http://php.scripts.psu.edu/djh300/cmpsc221/pt-data1.csv\")\""
   ]
  },
  {
   "cell_type": "code",
   "execution_count": null,
   "metadata": {
    "collapsed": false
   },
   "outputs": [],
   "source": [
    "# displays the first several rows of the data set\n",
    "data.head()"
   ]
  },
  {
   "cell_type": "code",
   "execution_count": null,
   "metadata": {
    "collapsed": false
   },
   "outputs": [],
   "source": [
    "# the names of all the columns in the dataset\n",
    "data.columns"
   ]
  },
  {
   "cell_type": "markdown",
   "metadata": {},
   "source": [
    "## Looking at some relationships"
   ]
  },
  {
   "cell_type": "code",
   "execution_count": null,
   "metadata": {
    "collapsed": false
   },
   "outputs": [],
   "source": [
    "ax = data.plot('AtomicNumber', 'AtomicRadius', title=\"Atomic Radius vs. Atomic Number\", legend=False)\n",
    "ax.set(xlabel=\"x label\", ylabel=\"y label\")"
   ]
  },
  {
   "cell_type": "code",
   "execution_count": null,
   "metadata": {
    "collapsed": false
   },
   "outputs": [],
   "source": [
    "data.plot('AtomicNumber', 'AtomicMass')"
   ]
  },
  {
   "cell_type": "code",
   "execution_count": null,
   "metadata": {
    "collapsed": false
   },
   "outputs": [],
   "source": [
    "data[['Name', 'YearDiscovered']].sort_values(by='YearDiscovered')"
   ]
  },
  {
   "cell_type": "code",
   "execution_count": null,
   "metadata": {
    "collapsed": true
   },
   "outputs": [],
   "source": []
  }
 ],
 "metadata": {
  "anaconda-cloud": {},
  "kernelspec": {
   "display_name": "Python 3",
   "language": "python",
   "name": "python3"
  },
  "language_info": {
   "codemirror_mode": {
    "name": "ipython",
    "version": 3
   },
   "file_extension": ".py",
   "mimetype": "text/x-python",
   "name": "python",
   "nbconvert_exporter": "python",
   "pygments_lexer": "ipython3",
   "version": "3.5.2"
  }
 },
 "nbformat": 4,
 "nbformat_minor": 0
}
