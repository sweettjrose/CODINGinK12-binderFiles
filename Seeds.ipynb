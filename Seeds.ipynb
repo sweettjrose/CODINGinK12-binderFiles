{
 "cells": [
  {
   "cell_type": "markdown",
   "metadata": {},
   "source": [
    "# Svalbard Global Seed Vault\n",
    "Here's the [website](http://www.nordgen.org/index.php/en/content/view/full/1400)"
   ]
  },
  {
   "cell_type": "code",
   "execution_count": 1,
   "metadata": {
    "collapsed": true
   },
   "outputs": [],
   "source": [
    "import pandas as pd\n",
    "import numpy as np\n",
    "%matplotlib inline\n",
    "import matplotlib as mpl\n",
    "import matplotlib.pyplot as plt"
   ]
  },
  {
   "cell_type": "code",
   "execution_count": 2,
   "metadata": {
    "collapsed": true
   },
   "outputs": [],
   "source": [
    "# seed deposit events data\n",
    "# file is actually tab-delimited, not xls, so open with read_table() instead of read_excel()\n",
    "\n",
    "# This pulls the data from the Seed Vault website\n",
    "deposits = pd.read_table('http://www.nordgen.org/sgsv/download.php?file=/scope/sgsv/files/sgsv_by_deposit_date.xls', header=0)"
   ]
  },
  {
   "cell_type": "code",
   "execution_count": 3,
   "metadata": {
    "collapsed": false
   },
   "outputs": [
    {
     "data": {
      "text/html": [
       "<div>\n",
       "<table border=\"1\" class=\"dataframe\">\n",
       "  <thead>\n",
       "    <tr style=\"text-align: right;\">\n",
       "      <th></th>\n",
       "      <th>sgsv_by_deposit_date_id</th>\n",
       "      <th>institute_code</th>\n",
       "      <th>deposit_date</th>\n",
       "      <th>depositor_name</th>\n",
       "      <th>institute_acronym</th>\n",
       "      <th>accessions</th>\n",
       "      <th>seeds</th>\n",
       "      <th>seed_boxes</th>\n",
       "      <th>taxa</th>\n",
       "      <th>species</th>\n",
       "      <th>genus</th>\n",
       "      <th>countries</th>\n",
       "      <th>continents</th>\n",
       "    </tr>\n",
       "  </thead>\n",
       "  <tbody>\n",
       "    <tr>\n",
       "      <th>0</th>\n",
       "      <td>739972</td>\n",
       "      <td>ARM035</td>\n",
       "      <td>2012-03-01</td>\n",
       "      <td>Armenian State Agrarian University, Laboratory...</td>\n",
       "      <td>LPGPB</td>\n",
       "      <td>175</td>\n",
       "      <td>87500.0</td>\n",
       "      <td>1</td>\n",
       "      <td>22</td>\n",
       "      <td>21</td>\n",
       "      <td>4</td>\n",
       "      <td>1</td>\n",
       "      <td>1</td>\n",
       "    </tr>\n",
       "    <tr>\n",
       "      <th>1</th>\n",
       "      <td>739973</td>\n",
       "      <td>AUS006</td>\n",
       "      <td>2014-02-25</td>\n",
       "      <td>Australian Medicago Genetic Resources Centre, ...</td>\n",
       "      <td>SARDI</td>\n",
       "      <td>2926</td>\n",
       "      <td>1085800.0</td>\n",
       "      <td>3</td>\n",
       "      <td>57</td>\n",
       "      <td>43</td>\n",
       "      <td>1</td>\n",
       "      <td>65</td>\n",
       "      <td>6</td>\n",
       "    </tr>\n",
       "    <tr>\n",
       "      <th>2</th>\n",
       "      <td>739974</td>\n",
       "      <td>AUS165</td>\n",
       "      <td>2011-02-16</td>\n",
       "      <td>Australian Grains Genebank</td>\n",
       "      <td>AGG</td>\n",
       "      <td>343</td>\n",
       "      <td>35438.0</td>\n",
       "      <td>1</td>\n",
       "      <td>2</td>\n",
       "      <td>2</td>\n",
       "      <td>2</td>\n",
       "      <td>6</td>\n",
       "      <td>1</td>\n",
       "    </tr>\n",
       "  </tbody>\n",
       "</table>\n",
       "</div>"
      ],
      "text/plain": [
       "   sgsv_by_deposit_date_id institute_code deposit_date  \\\n",
       "0                   739972         ARM035   2012-03-01   \n",
       "1                   739973         AUS006   2014-02-25   \n",
       "2                   739974         AUS165   2011-02-16   \n",
       "\n",
       "                                      depositor_name institute_acronym  \\\n",
       "0  Armenian State Agrarian University, Laboratory...             LPGPB   \n",
       "1  Australian Medicago Genetic Resources Centre, ...             SARDI   \n",
       "2                         Australian Grains Genebank               AGG   \n",
       "\n",
       "   accessions      seeds  seed_boxes  taxa  species  genus  countries  \\\n",
       "0         175    87500.0           1    22       21      4          1   \n",
       "1        2926  1085800.0           3    57       43      1         65   \n",
       "2         343    35438.0           1     2        2      2          6   \n",
       "\n",
       "   continents  \n",
       "0           1  \n",
       "1           6  \n",
       "2           1  "
      ]
     },
     "execution_count": 3,
     "metadata": {},
     "output_type": "execute_result"
    }
   ],
   "source": [
    "deposits.head(3)"
   ]
  },
  {
   "cell_type": "markdown",
   "metadata": {},
   "source": [
    "## Top 10 Seed Depositors"
   ]
  },
  {
   "cell_type": "code",
   "execution_count": 4,
   "metadata": {
    "collapsed": false
   },
   "outputs": [],
   "source": [
    "# create new dataset with depositors' totals\n",
    "totals = deposits.groupby(\"depositor_name\", as_index=False).sum()"
   ]
  },
  {
   "cell_type": "code",
   "execution_count": 5,
   "metadata": {
    "collapsed": false
   },
   "outputs": [
    {
     "data": {
      "text/html": [
       "<div>\n",
       "<table border=\"1\" class=\"dataframe\">\n",
       "  <thead>\n",
       "    <tr style=\"text-align: right;\">\n",
       "      <th></th>\n",
       "      <th>depositor_name</th>\n",
       "      <th>sgsv_by_deposit_date_id</th>\n",
       "      <th>accessions</th>\n",
       "      <th>seeds</th>\n",
       "      <th>seed_boxes</th>\n",
       "      <th>taxa</th>\n",
       "      <th>species</th>\n",
       "      <th>genus</th>\n",
       "      <th>countries</th>\n",
       "      <th>continents</th>\n",
       "    </tr>\n",
       "  </thead>\n",
       "  <tbody>\n",
       "    <tr>\n",
       "      <th>30</th>\n",
       "      <td>International Crop Research Institute for the ...</td>\n",
       "      <td>6660342</td>\n",
       "      <td>110818</td>\n",
       "      <td>229616519.0</td>\n",
       "      <td>300</td>\n",
       "      <td>74</td>\n",
       "      <td>74</td>\n",
       "      <td>68</td>\n",
       "      <td>845</td>\n",
       "      <td>53</td>\n",
       "    </tr>\n",
       "    <tr>\n",
       "      <th>29</th>\n",
       "      <td>International Centre for Agricultural Research...</td>\n",
       "      <td>5920988</td>\n",
       "      <td>131644</td>\n",
       "      <td>67748730.0</td>\n",
       "      <td>378</td>\n",
       "      <td>1212</td>\n",
       "      <td>875</td>\n",
       "      <td>112</td>\n",
       "      <td>705</td>\n",
       "      <td>46</td>\n",
       "    </tr>\n",
       "    <tr>\n",
       "      <th>33</th>\n",
       "      <td>International Rice Research Institute</td>\n",
       "      <td>2960394</td>\n",
       "      <td>122060</td>\n",
       "      <td>61562149.0</td>\n",
       "      <td>182</td>\n",
       "      <td>111</td>\n",
       "      <td>95</td>\n",
       "      <td>13</td>\n",
       "      <td>351</td>\n",
       "      <td>24</td>\n",
       "    </tr>\n",
       "    <tr>\n",
       "      <th>14</th>\n",
       "      <td>Centro Internacional de Mejoramiento de Maíz y...</td>\n",
       "      <td>4440363</td>\n",
       "      <td>158218</td>\n",
       "      <td>46571720.0</td>\n",
       "      <td>461</td>\n",
       "      <td>60</td>\n",
       "      <td>39</td>\n",
       "      <td>25</td>\n",
       "      <td>320</td>\n",
       "      <td>29</td>\n",
       "    </tr>\n",
       "    <tr>\n",
       "      <th>45</th>\n",
       "      <td>National Plant Germplasm System</td>\n",
       "      <td>5181134</td>\n",
       "      <td>108022</td>\n",
       "      <td>39230572.0</td>\n",
       "      <td>303</td>\n",
       "      <td>3067</td>\n",
       "      <td>2703</td>\n",
       "      <td>890</td>\n",
       "      <td>976</td>\n",
       "      <td>42</td>\n",
       "    </tr>\n",
       "    <tr>\n",
       "      <th>13</th>\n",
       "      <td>Centro Internacional de Agricultura Tropical</td>\n",
       "      <td>7400035</td>\n",
       "      <td>54664</td>\n",
       "      <td>22305850.0</td>\n",
       "      <td>161</td>\n",
       "      <td>2158</td>\n",
       "      <td>2150</td>\n",
       "      <td>528</td>\n",
       "      <td>803</td>\n",
       "      <td>60</td>\n",
       "    </tr>\n",
       "    <tr>\n",
       "      <th>34</th>\n",
       "      <td>Leibniz Institute of Plant Genetics and Crop P...</td>\n",
       "      <td>5180126</td>\n",
       "      <td>48653</td>\n",
       "      <td>20852449.0</td>\n",
       "      <td>78</td>\n",
       "      <td>7300</td>\n",
       "      <td>4349</td>\n",
       "      <td>1695</td>\n",
       "      <td>692</td>\n",
       "      <td>42</td>\n",
       "    </tr>\n",
       "    <tr>\n",
       "      <th>52</th>\n",
       "      <td>Plant Gene Resources of Canada</td>\n",
       "      <td>2959974</td>\n",
       "      <td>25868</td>\n",
       "      <td>18344293.0</td>\n",
       "      <td>167</td>\n",
       "      <td>476</td>\n",
       "      <td>428</td>\n",
       "      <td>199</td>\n",
       "      <td>310</td>\n",
       "      <td>24</td>\n",
       "    </tr>\n",
       "    <tr>\n",
       "      <th>49</th>\n",
       "      <td>Nordic Genetic Resource Center</td>\n",
       "      <td>5920924</td>\n",
       "      <td>21123</td>\n",
       "      <td>10299952.0</td>\n",
       "      <td>46</td>\n",
       "      <td>863</td>\n",
       "      <td>729</td>\n",
       "      <td>445</td>\n",
       "      <td>218</td>\n",
       "      <td>46</td>\n",
       "    </tr>\n",
       "    <tr>\n",
       "      <th>39</th>\n",
       "      <td>National Agricultural Research Organization</td>\n",
       "      <td>1480283</td>\n",
       "      <td>777</td>\n",
       "      <td>8994623.0</td>\n",
       "      <td>3</td>\n",
       "      <td>14</td>\n",
       "      <td>14</td>\n",
       "      <td>5</td>\n",
       "      <td>4</td>\n",
       "      <td>4</td>\n",
       "    </tr>\n",
       "  </tbody>\n",
       "</table>\n",
       "</div>"
      ],
      "text/plain": [
       "                                       depositor_name  \\\n",
       "30  International Crop Research Institute for the ...   \n",
       "29  International Centre for Agricultural Research...   \n",
       "33              International Rice Research Institute   \n",
       "14  Centro Internacional de Mejoramiento de Maíz y...   \n",
       "45                    National Plant Germplasm System   \n",
       "13       Centro Internacional de Agricultura Tropical   \n",
       "34  Leibniz Institute of Plant Genetics and Crop P...   \n",
       "52                     Plant Gene Resources of Canada   \n",
       "49                     Nordic Genetic Resource Center   \n",
       "39        National Agricultural Research Organization   \n",
       "\n",
       "    sgsv_by_deposit_date_id  accessions        seeds  seed_boxes  taxa  \\\n",
       "30                  6660342      110818  229616519.0         300    74   \n",
       "29                  5920988      131644   67748730.0         378  1212   \n",
       "33                  2960394      122060   61562149.0         182   111   \n",
       "14                  4440363      158218   46571720.0         461    60   \n",
       "45                  5181134      108022   39230572.0         303  3067   \n",
       "13                  7400035       54664   22305850.0         161  2158   \n",
       "34                  5180126       48653   20852449.0          78  7300   \n",
       "52                  2959974       25868   18344293.0         167   476   \n",
       "49                  5920924       21123   10299952.0          46   863   \n",
       "39                  1480283         777    8994623.0           3    14   \n",
       "\n",
       "    species  genus  countries  continents  \n",
       "30       74     68        845          53  \n",
       "29      875    112        705          46  \n",
       "33       95     13        351          24  \n",
       "14       39     25        320          29  \n",
       "45     2703    890        976          42  \n",
       "13     2150    528        803          60  \n",
       "34     4349   1695        692          42  \n",
       "52      428    199        310          24  \n",
       "49      729    445        218          46  \n",
       "39       14      5          4           4  "
      ]
     },
     "execution_count": 5,
     "metadata": {},
     "output_type": "execute_result"
    }
   ],
   "source": [
    "# the top 10 depositors with the most seeds\n",
    "most = totals.sort_values(by=\"seeds\", ascending=False).head(10)\n",
    "most"
   ]
  },
  {
   "cell_type": "code",
   "execution_count": 6,
   "metadata": {
    "collapsed": false
   },
   "outputs": [
    {
     "data": {
      "image/png": "[encoded data removed]",
      "text/plain": [
       "<matplotlib.figure.Figure at 0x7f1c5c16e860>"
      ]
     },
     "metadata": {},
     "output_type": "display_data"
    }
   ],
   "source": [
    "most.sort_values(by=\"seeds\", ascending=True).plot(x=\"depositor_name\", y=\"seeds\", kind=\"barh\", title=\"Top Seed Depositors\", legend=False);"
   ]
  }
 ],
 "metadata": {
  "kernelspec": {
   "display_name": "Python 3",
   "language": "python",
   "name": "python3"
  },
  "language_info": {
   "codemirror_mode": {
    "name": "ipython",
    "version": 3
   },
   "file_extension": ".py",
   "mimetype": "text/x-python",
   "name": "python",
   "nbconvert_exporter": "python",
   "pygments_lexer": "ipython3",
   "version": "3.5.2"
  }
 },
 "nbformat": 4,
 "nbformat_minor": 0
}
