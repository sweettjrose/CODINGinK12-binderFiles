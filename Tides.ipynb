{
 "cells": [
  {
   "cell_type": "markdown",
   "metadata": {},
   "source": [
    "# Analyzing Tides"
   ]
  },
  {
   "cell_type": "markdown",
   "metadata": {},
   "source": [
    "This sea level data spans [2011-2015 for Mornington Island, Australia](https://data.qld.gov.au/dataset/mornington-island-tide-gauge-archived-interval-recordings/resource/ef6dd15e-64b7-430c-9f97-371c4965414d).\n",
    "\n",
    "Thanks to UCF undergraduates Lissa Galguera, for finding the, and Hunter Tanchin, for starting the development of this notebook."
   ]
  },
  {
   "cell_type": "code",
   "execution_count": null,
   "metadata": {
    "collapsed": true
   },
   "outputs": [],
   "source": [
    "# The first pieces of code we need to start with are called 'imports'\n",
    "\n",
    "import numpy as np\n",
    "import pandas as pd\n",
    "%matplotlib inline\n",
    "import matplotlib.pyplot as plt\n",
    "\n",
    "# These imports contain programming instructions (called 'modules') to read data, plot data, etc.\n",
    "# You can think of imports like tool boxes. Each tool box contains a different set of tools (modules) to use."
   ]
  },
  {
   "cell_type": "markdown",
   "metadata": {},
   "source": [
    "## Importing the Data"
   ]
  },
  {
   "cell_type": "code",
   "execution_count": null,
   "metadata": {
    "collapsed": false
   },
   "outputs": [],
   "source": [
    "# We need to read some data. Let's use our tool \".read_csv\" located in the \"pd\" import.\n",
    "data = pd.read_csv(\"https://github.com/adamlamee/CODINGinK12-data/raw/master/tides.csv\", names = [\"rawData\"])\n",
    "\n",
    "data['height'] = data.rawData.str[13:].astype(float)\n",
    "data['rawTime'] = data.rawData.str[:12]\n",
    "dates = pd.to_datetime(data.rawTime.tolist(), format='%d%m%Y%H%M')\n",
    "tides = pd.Series(data.iloc[:,1].tolist(), dates)"
   ]
  },
  {
   "cell_type": "code",
   "execution_count": null,
   "metadata": {
    "collapsed": false
   },
   "outputs": [],
   "source": [
    "# displays the first several entries of the data set\n",
    "tides.head(5)"
   ]
  },
  {
   "cell_type": "markdown",
   "metadata": {},
   "source": [
    "## Plotting the data"
   ]
  },
  {
   "cell_type": "code",
   "execution_count": null,
   "metadata": {
    "collapsed": false
   },
   "outputs": [],
   "source": [
    "# plots the entire data set\n",
    "tides.plot(title=\"Sea level height (m)\")"
   ]
  },
  {
   "cell_type": "code",
   "execution_count": null,
   "metadata": {
    "collapsed": false
   },
   "outputs": [],
   "source": [
    "# plots just one month in the data set\n",
    "tides['June 2014'].plot(title=\"Sea level height (m)\")"
   ]
  },
  {
   "cell_type": "code",
   "execution_count": null,
   "metadata": {
    "collapsed": false
   },
   "outputs": [],
   "source": [
    "# or just one day\n",
    "tides['June 1 2014'].plot(title=\"Sea level height (m)\")"
   ]
  },
  {
   "cell_type": "code",
   "execution_count": null,
   "metadata": {
    "collapsed": false
   },
   "outputs": [],
   "source": [
    "# plots a range of times in the data set\n",
    "tides['Jan 22 2012':'July 28 2012'].plot(title=\"Sea level height (m)\")"
   ]
  },
  {
   "cell_type": "markdown",
   "metadata": {},
   "source": [
    "## Ideas for analyses\n",
    "- How can you identify a high tide on the graph? How many high tides happened in September 2015?\n",
    "- What patterns do you see in the data?\n",
    "- Are there daily, monthly, or yearly patterns? Why do you think so?\n",
    "- How can neap tides be identified in a graph?\n",
    "- What do you think happened in June 2011?\n",
    "- This data comes from Australia. How might it be different from data taken in Florida?"
   ]
  },
  {
   "cell_type": "code",
   "execution_count": null,
   "metadata": {
    "collapsed": true
   },
   "outputs": [],
   "source": []
  }
 ],
 "metadata": {
  "anaconda-cloud": {},
  "kernelspec": {
   "display_name": "Python 3",
   "language": "python",
   "name": "python3"
  },
  "language_info": {
   "codemirror_mode": {
    "name": "ipython",
    "version": 3
   },
   "file_extension": ".py",
   "mimetype": "text/x-python",
   "name": "python",
   "nbconvert_exporter": "python",
   "pygments_lexer": "ipython3",
   "version": "3.5.2"
  }
 },
 "nbformat": 4,
 "nbformat_minor": 1
}
