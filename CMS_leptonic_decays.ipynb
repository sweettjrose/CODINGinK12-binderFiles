{
 "cells": [
  {
   "cell_type": "markdown",
   "metadata": {},
   "source": [
    "# CMS Leptonic Decay Analysis\n",
    "\n",
    "This activity uses data from the CMS detector at CERN's LHC. It's actually the same activity we've used in [Quarknet's Data Camp at Fermilab](https://quarknet.i2u2.org/content/quarknet-data-camp) for several years, but using Python to pick it apart instead of a spreadsheet. The files contain collision events. You'll begin by looking at the events which included two muons in the decay products. If you have trouble running this, trying out the [Intro to Jupyter activity](./Intro_to_Jupyter.ipynb) might help.\n",
    "\n",
    "Go to the menu bar above and select **Kernel > Restart & Run All**. Then, scroll down to **Part One**.\n",
    "\n",
    "*Note: You won't hurt anything by experimenting. If you break it, go to **File > Revert to checkpoint** to start over.*"
   ]
  },
  {
   "cell_type": "code",
   "execution_count": null,
   "metadata": {
    "collapsed": false
   },
   "outputs": [],
   "source": [
    "# imports some software packages we'll use\n",
    "import pandas as pd\n",
    "import numpy as np\n",
    "%matplotlib inline\n",
    "import matplotlib as mpl\n",
    "import matplotlib.pyplot as plt\n",
    "inline_rc = dict(mpl.rcParams)"
   ]
  },
  {
   "cell_type": "code",
   "execution_count": null,
   "metadata": {
    "collapsed": false
   },
   "outputs": [],
   "source": [
    "# a hashtag tells the program \"don't read the rest of the line\"\n",
    "# That way we can write \"comments\" to humans trying to figure out what the code does\n",
    "# Blank lines don't do anything either, but they can make the code easier to read\n",
    "\n",
    "two_u = pd.read_csv('https://github.com/adamlamee/HEP-data/raw/master/Double_Muon_Run2011A.csv')\n",
    "# two_e = pd.read_csv('https://github.com/adamlamee/HEP-data/raw/master/Double_Electron_Run2011A.csv')\n",
    "# one_u = pd.read_csv('https://github.com/adamlamee/HEP-data/raw/master/Single_Muon_Run2011A.csv')\n",
    "# one_e = pd.read_csv('https://github.com/adamlamee/HEP-data/raw/master/Single_Electron_Run2011A.csv')"
   ]
  },
  {
   "cell_type": "code",
   "execution_count": null,
   "metadata": {
    "collapsed": false
   },
   "outputs": [],
   "source": [
    "data = two_u\n",
    "# The .head(n) command displays the first n rows of a file.\n",
    "data.head(3)"
   ]
  },
  {
   "cell_type": "code",
   "execution_count": null,
   "metadata": {
    "collapsed": false
   },
   "outputs": [],
   "source": [
    "# The .shape command displays the (number of rows , number of columns) in a file.\n",
    "data.shape"
   ]
  },
  {
   "cell_type": "markdown",
   "metadata": {},
   "source": [
    "## Part One\n",
    "Let's get acquainted with this dimuon data set. Look at the cells above to find the answers to the following questions:\n",
    "- In the table above, what do you think each of the column headings represent?\n",
    "- How many events does this data set contain?"
   ]
  },
  {
   "cell_type": "code",
   "execution_count": null,
   "metadata": {
    "collapsed": true
   },
   "outputs": [],
   "source": [
    "# You can specify a column by dataset.columnName (e.g., two_u.E1)\n",
    "# This makes a new column called \"totalE\" and fills it with (E1 + E2) for each event\n",
    "data['totalE'] = data.E1 + data.E2"
   ]
  },
  {
   "cell_type": "code",
   "execution_count": null,
   "metadata": {
    "collapsed": true
   },
   "outputs": [],
   "source": [
    "# This makes a new column called \"Esquared\" and fills it with E1^2 for each event\n",
    "data['Esquared'] = data.E1**2"
   ]
  },
  {
   "cell_type": "code",
   "execution_count": null,
   "metadata": {
    "collapsed": false
   },
   "outputs": [],
   "source": [
    "# makes the histogram\n",
    "plt.hist(data.totalE, bins=10, range=[0,120], log=False)\n",
    "plt.title(\"Dimuon Events\")\n",
    "plt.xlabel(\"x-axis label\")\n",
    "plt.ylabel(\"number of events\")"
   ]
  },
  {
   "cell_type": "markdown",
   "metadata": {},
   "source": [
    "## Part Two\n",
    "The code above may take a few moments to run since it's grabbing a pretty big data set (>400,000 events!?). When it's finished, you'll see a histogram above.\n",
    "- What do you think the histogram above is showing? Try looking in the cell just before the graph to see the code that made it.\n",
    "- The x-axis label looks like it could use some work. Try typing a better label in the code before the graph. Then, \"execute\" the cell by pressing shift+enter or clicking the \"play\" icon in the toolbar.\n",
    "- It's also customary to plot this type of data on a log scale. Try that out.\n",
    "- The Z boson has a mass of around 90 GeV and can decay into two muons. Does your data incidate Z production? Tinkering with the histogram's range and number of bins might help your search."
   ]
  },
  {
   "cell_type": "markdown",
   "metadata": {},
   "source": [
    "## Part Three\n",
    "Try one of the following\n",
    "- Create a histogram to show the production of one of the [J/$\\Psi$](https://en.wikipedia.org/wiki/J/psi_meson) or [Upsilon](https://en.wikipedia.org/wiki/Upsilon_meson) ($\\Upsilon$).\n",
    "- (more coding) Look at a different decay channel. The second code cell in this activity (probably labeled \"ln[2]\") gives you some options.\n",
    "- (more math) If we're particle hunting, the previous plot really isn't the one we need. The mass of a particle isn't just equal to the toal energy of its decay products. If you recall what a relativistic 4-vector is, that could help replot your mass reconstruction more accurately."
   ]
  },
  {
   "cell_type": "markdown",
   "metadata": {},
   "source": [
    "## More tools\n",
    "The cells below show some sillier or more advanced tehniques."
   ]
  },
  {
   "cell_type": "code",
   "execution_count": null,
   "metadata": {
    "collapsed": false
   },
   "outputs": [],
   "source": [
    "# run this command to make your plots look like they're from xkcd.com\n",
    "plt.xkcd()\n",
    "# then re-execute your code to make a plot and see it xkcd-ified."
   ]
  },
  {
   "cell_type": "code",
   "execution_count": null,
   "metadata": {
    "collapsed": true
   },
   "outputs": [],
   "source": [
    "# run this cell to make normal-looking plots again\n",
    "mpl.rcParams.update(inline_rc)"
   ]
  },
  {
   "cell_type": "code",
   "execution_count": null,
   "metadata": {
    "collapsed": false
   },
   "outputs": [],
   "source": [
    "# calculates descriptive statistics\n",
    "data.describe()"
   ]
  },
  {
   "cell_type": "code",
   "execution_count": null,
   "metadata": {
    "collapsed": false
   },
   "outputs": [],
   "source": [
    "# Making cuts on your data (i.e., filtering your data set)\n",
    "eta_cut = data.query('eta1 > 2 & eta2 > 2')\n",
    "eta_cut.head()"
   ]
  },
  {
   "cell_type": "code",
   "execution_count": null,
   "metadata": {
    "collapsed": false
   },
   "outputs": [],
   "source": [
    "# here's another example\n",
    "type_cut = data.query('Type1 == \"G\" & Type2 == \"T\"')\n",
    "type_cut.head()"
   ]
  },
  {
   "cell_type": "code",
   "execution_count": null,
   "metadata": {
    "collapsed": false
   },
   "outputs": [],
   "source": [
    "# Creates a matrix of pair plots. FYI: this takes a long time for 3+ columns\n",
    "newdata = data[['eta1','phi1']]\n",
    "pd.scatter_matrix(newdata, s=.001, figsize=(6, 6), diagonal='kde');"
   ]
  },
  {
   "cell_type": "markdown",
   "metadata": {
    "collapsed": true
   },
   "source": [
    "## Saving Your Work\n",
    "This is running on a Google Compute Engine server on a distant planet and deletes what you've done after 20 minutes of inactivity. To save for later use or analysis you have a few options:\n",
    "- File > Download as > ipynb (to continue your analysis later)\n",
    "- File > Download as > pdf (static copy including code and graphs)\n",
    "- Right-click on a graph and select Save Image As ... (to share a pic)\n",
    "\n",
    "## Credits\n",
    "This notebook was designed by [Quarknet](https://quarknet.i2u2.org/) Teaching and Learning Fellow, Adam LaMee. Find more coding activities for K-12 at his website [adamlamee.com](https://adamlamee.github.io/). The handy csv files were created from run2011A primary datasets and converted from ROOT format by the masterful [Tom McCauley](https://github.com/tpmccauley). More can be found on the [CERN OpenData](http://opendata.cern.ch/?ln=en) site, like [here](http://opendata.cern.ch/record/545). Finally, thanks to the great folks at [MyBinder.org](https://beta.mybinder.org/) this notebook is interactive without you needing to download it or install Jupyter on your own device."
   ]
  }
 ],
 "metadata": {
  "kernelspec": {
   "display_name": "Python 3",
   "language": "python",
   "name": "python3"
  },
  "language_info": {
   "codemirror_mode": {
    "name": "ipython",
    "version": 3
   },
   "file_extension": ".py",
   "mimetype": "text/x-python",
   "name": "python",
   "nbconvert_exporter": "python",
   "pygments_lexer": "ipython3",
   "version": "3.5.2"
  }
 },
 "nbformat": 4,
 "nbformat_minor": 0
}
